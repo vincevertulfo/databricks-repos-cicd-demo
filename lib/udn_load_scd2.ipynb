{
 "cells": [
  {
   "cell_type": "code",
   "execution_count": 0,
   "metadata": {
    "application/vnd.databricks.v1+cell": {
     "cellMetadata": {},
     "inputWidgets": {},
     "nuid": "f0cdf604-60b5-4b92-a190-9c3922baa791",
     "showTitle": false,
     "tableResultSettingsMap": {},
     "title": ""
    }
   },
   "outputs": [],
   "source": [
    "# Notebook parameters\n",
    "dbutils.widgets.text(\"source_schema\", \"\")\n",
    "dbutils.widgets.text(\"source_table\", \"\")\n",
    "dbutils.widgets.text(\"target_schema\", \"\")\n",
    "dbutils.widgets.text(\"target_table\", \"\")\n",
    "dbutils.widgets.text(\"join_key\", \"\")"
   ]
  },
  {
   "cell_type": "code",
   "execution_count": 0,
   "metadata": {
    "application/vnd.databricks.v1+cell": {
     "cellMetadata": {},
     "inputWidgets": {},
     "nuid": "73659017-5966-43fb-be50-66940e766a6b",
     "showTitle": false,
     "tableResultSettingsMap": {},
     "title": ""
    }
   },
   "outputs": [],
   "source": [
    "\n",
    "# Get parameter values\n",
    "source_schema = dbutils.widgets.get(\"source_schema\")\n",
    "source_table = dbutils.widgets.get(\"source_table\")\n",
    "target_schema = dbutils.widgets.get(\"target_schema\")\n",
    "target_table = dbutils.widgets.get(\"target_table\")\n",
    "join_key = dbutils.widgets.get(\"join_key\")\n",
    "\n"
   ]
  },
  {
   "cell_type": "code",
   "execution_count": 0,
   "metadata": {
    "application/vnd.databricks.v1+cell": {
     "cellMetadata": {
      "byteLimit": 2048000,
      "rowLimit": 10000
     },
     "inputWidgets": {},
     "nuid": "929c4981-20a6-4640-b70b-1bbd4f3093b7",
     "showTitle": false,
     "tableResultSettingsMap": {},
     "title": ""
    }
   },
   "outputs": [],
   "source": [
    "def load_scd2(\n",
    "    source_schema : str,\n",
    "    source_table : str,\n",
    "    target_schema : str,\n",
    "    target_table : str,\n",
    "    join_key : str\n",
    "):\n",
    "    print(f\"source_schema: {source_schema}\")\n",
    "    print(f\"source_table: {source_table}\")\n",
    "    print(f\"target_schema: {target_schema}\")\n",
    "    print(f\"target_table: {target_table}\")\n",
    "    print(f\"join_key: {join_key}\")\n",
    "    \n",
    "    return 'Loading SCD2 ....'"
   ]
  }
 ],
 "metadata": {
  "application/vnd.databricks.v1+notebook": {
   "computePreferences": null,
   "dashboards": [],
   "environmentMetadata": {
    "base_environment": "",
    "environment_version": "2"
   },
   "inputWidgetPreferences": null,
   "language": "python",
   "notebookMetadata": {
    "pythonIndentUnit": 4
   },
   "notebookName": "udn_load_scd2",
   "widgets": {}
  },
  "language_info": {
   "name": "python"
  }
 },
 "nbformat": 4,
 "nbformat_minor": 0
}
